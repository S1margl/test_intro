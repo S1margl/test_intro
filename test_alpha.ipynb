{
 "cells": [
  {
   "cell_type": "code",
   "execution_count": 1,
   "metadata": {},
   "outputs": [],
   "source": [
    "import yfinance as yf\n",
    "import pandas as pd\n",
    "import math\n",
    "import numpy as np\n",
    "import seaborn as sns\n",
    "import matplotlib.pyplot as plt\n",
    "import scipy.stats as sts\n",
    "import statsmodels.api as sm\n",
    "from statsmodels.tsa.stattools import grangercausalitytests"
   ]
  },
  {
   "cell_type": "markdown",
   "metadata": {},
   "source": [
    "# Задание 1"
   ]
  },
  {
   "cell_type": "code",
   "execution_count": 2,
   "metadata": {},
   "outputs": [
    {
     "name": "stderr",
     "output_type": "stream",
     "text": [
      "C:\\Users\\USER\\anaconda3\\lib\\site-packages\\fuzzywuzzy\\fuzz.py:11: UserWarning: Using slow pure-python SequenceMatcher. Install python-Levenshtein to remove this warning\n",
      "  warnings.warn('Using slow pure-python SequenceMatcher. Install python-Levenshtein to remove this warning')\n"
     ]
    },
    {
     "data": {
      "text/plain": [
       "{'symbol': 'FB',\n",
       " 'name': 'FACEBOOK INC-CLASS A',\n",
       " 'date': '2021-06-18',\n",
       " 'isEnabled': True,\n",
       " 'type': 'N/A',\n",
       " 'iexId': '2408'}"
      ]
     },
     "execution_count": 2,
     "metadata": {},
     "output_type": "execute_result"
    }
   ],
   "source": [
    "# Для того, чтобы определить название тикера каждой компании была написана данная функция\n",
    "from fuzzywuzzy import process\n",
    "import requests\n",
    "\n",
    "def getCompany(text):\n",
    "    r = requests.get('https://api.iextrading.com/1.0/ref-data/symbols')\n",
    "    stockList = r.json()\n",
    "    return process.extractOne(text, stockList)[0]\n",
    "\n",
    "\n",
    "getCompany('Facebook')"
   ]
  },
  {
   "cell_type": "code",
   "execution_count": 3,
   "metadata": {},
   "outputs": [
    {
     "data": {
      "text/plain": [
       "{'symbol': 'GOOGL',\n",
       " 'name': 'ALPHABET INC-CL A',\n",
       " 'date': '2021-06-18',\n",
       " 'isEnabled': True,\n",
       " 'type': 'N/A',\n",
       " 'iexId': '10657'}"
      ]
     },
     "execution_count": 3,
     "metadata": {},
     "output_type": "execute_result"
    }
   ],
   "source": [
    "getCompany('Google')"
   ]
  },
  {
   "cell_type": "code",
   "execution_count": 4,
   "metadata": {},
   "outputs": [
    {
     "data": {
      "text/plain": [
       "{'symbol': 'AAPL',\n",
       " 'name': 'APPLE INC',\n",
       " 'date': '2021-06-18',\n",
       " 'isEnabled': True,\n",
       " 'type': 'N/A',\n",
       " 'iexId': '11'}"
      ]
     },
     "execution_count": 4,
     "metadata": {},
     "output_type": "execute_result"
    }
   ],
   "source": [
    "getCompany('Apple')"
   ]
  },
  {
   "cell_type": "markdown",
   "metadata": {},
   "source": [
    "# Задание 2"
   ]
  },
  {
   "cell_type": "code",
   "execution_count": 5,
   "metadata": {},
   "outputs": [
    {
     "name": "stdout",
     "output_type": "stream",
     "text": [
      "[*********************100%***********************]  1 of 1 completed\n",
      "[*********************100%***********************]  1 of 1 completed\n",
      "[*********************100%***********************]  1 of 1 completed\n"
     ]
    },
    {
     "data": {
      "text/html": [
       "<div>\n",
       "<style scoped>\n",
       "    .dataframe tbody tr th:only-of-type {\n",
       "        vertical-align: middle;\n",
       "    }\n",
       "\n",
       "    .dataframe tbody tr th {\n",
       "        vertical-align: top;\n",
       "    }\n",
       "\n",
       "    .dataframe thead th {\n",
       "        text-align: right;\n",
       "    }\n",
       "</style>\n",
       "<table border=\"1\" class=\"dataframe\">\n",
       "  <thead>\n",
       "    <tr style=\"text-align: right;\">\n",
       "      <th></th>\n",
       "      <th>AAPL</th>\n",
       "      <th>GOOGL</th>\n",
       "      <th>FB</th>\n",
       "    </tr>\n",
       "    <tr>\n",
       "      <th>Date</th>\n",
       "      <th></th>\n",
       "      <th></th>\n",
       "      <th></th>\n",
       "    </tr>\n",
       "  </thead>\n",
       "  <tbody>\n",
       "    <tr>\n",
       "      <th>2011-06-20</th>\n",
       "      <td>9.683733</td>\n",
       "      <td>242.532532</td>\n",
       "      <td>NaN</td>\n",
       "    </tr>\n",
       "    <tr>\n",
       "      <th>2011-06-21</th>\n",
       "      <td>9.990229</td>\n",
       "      <td>246.746750</td>\n",
       "      <td>NaN</td>\n",
       "    </tr>\n",
       "    <tr>\n",
       "      <th>2011-06-22</th>\n",
       "      <td>9.907616</td>\n",
       "      <td>243.748749</td>\n",
       "      <td>NaN</td>\n",
       "    </tr>\n",
       "    <tr>\n",
       "      <th>2011-06-23</th>\n",
       "      <td>10.172344</td>\n",
       "      <td>240.350357</td>\n",
       "      <td>NaN</td>\n",
       "    </tr>\n",
       "    <tr>\n",
       "      <th>2011-06-24</th>\n",
       "      <td>10.022475</td>\n",
       "      <td>237.677673</td>\n",
       "      <td>NaN</td>\n",
       "    </tr>\n",
       "  </tbody>\n",
       "</table>\n",
       "</div>"
      ],
      "text/plain": [
       "                 AAPL       GOOGL  FB\n",
       "Date                                 \n",
       "2011-06-20   9.683733  242.532532 NaN\n",
       "2011-06-21   9.990229  246.746750 NaN\n",
       "2011-06-22   9.907616  243.748749 NaN\n",
       "2011-06-23  10.172344  240.350357 NaN\n",
       "2011-06-24  10.022475  237.677673 NaN"
      ]
     },
     "execution_count": 5,
     "metadata": {},
     "output_type": "execute_result"
    }
   ],
   "source": [
    "# Создание dataframe для трех компаний, в котором храняться значения цен акций в момент закрытия\n",
    "ticker_list = ['AAPL', 'GOOGL', 'FB']\n",
    "price_close = pd.DataFrame(columns=ticker_list)\n",
    "for ticker in ticker_list:\n",
    "    price_close[ticker] = yf.download(ticker,'2011-06-20','2021-06-20')['Adj Close']\n",
    "price_close.head()"
   ]
  },
  {
   "cell_type": "code",
   "execution_count": 6,
   "metadata": {},
   "outputs": [
    {
     "name": "stdout",
     "output_type": "stream",
     "text": [
      "                AAPL     GOOGL  FB\n",
      "Date                              \n",
      "2011-06-20       NaN       NaN NaN\n",
      "2011-06-21  0.031651  0.017376 NaN\n",
      "2011-06-22 -0.008269 -0.012150 NaN\n",
      "2011-06-23  0.026720 -0.013942 NaN\n",
      "2011-06-24 -0.014733 -0.011120 NaN\n"
     ]
    }
   ],
   "source": [
    "#Расчет daily retern\n",
    "daily_returns = price_close.pct_change()\n",
    "print(daily_returns.head())"
   ]
  },
  {
   "cell_type": "code",
   "execution_count": 7,
   "metadata": {},
   "outputs": [
    {
     "data": {
      "text/plain": [
       "<AxesSubplot:>"
      ]
     },
     "execution_count": 7,
     "metadata": {},
     "output_type": "execute_result"
    },
    {
     "data": {
      "image/png": "[encoded data removed]",
      "text/plain": [
       "<Figure size 432x288 with 1 Axes>"
      ]
     },
     "metadata": {
      "needs_background": "light"
     },
     "output_type": "display_data"
    }
   ],
   "source": [
    "daily_returns.AAPL.hist(bins=30)"
   ]
  },
  {
   "cell_type": "code",
   "execution_count": 8,
   "metadata": {},
   "outputs": [
    {
     "name": "stdout",
     "output_type": "stream",
     "text": [
      "count    2516.000000\n",
      "mean        0.001198\n",
      "std         0.018106\n",
      "min        -0.128647\n",
      "25%        -0.007132\n",
      "50%         0.000892\n",
      "75%         0.010473\n",
      "max         0.119808\n",
      "Name: AAPL, dtype: float64\n"
     ]
    }
   ],
   "source": [
    "print(daily_returns.AAPL.describe())"
   ]
  },
  {
   "cell_type": "code",
   "execution_count": 9,
   "metadata": {},
   "outputs": [
    {
     "data": {
      "text/plain": [
       "<AxesSubplot:>"
      ]
     },
     "execution_count": 9,
     "metadata": {},
     "output_type": "execute_result"
    },
    {
     "data": {
      "image/png": "[encoded data removed]",
      "text/plain": [
       "<Figure size 432x288 with 1 Axes>"
      ]
     },
     "metadata": {
      "needs_background": "light"
     },
     "output_type": "display_data"
    }
   ],
   "source": [
    "daily_returns.GOOGL.hist(bins=30)"
   ]
  },
  {
   "cell_type": "code",
   "execution_count": 10,
   "metadata": {},
   "outputs": [
    {
     "name": "stdout",
     "output_type": "stream",
     "text": [
      "count    2516.000000\n",
      "mean        0.001045\n",
      "std         0.016393\n",
      "min        -0.116342\n",
      "25%        -0.006396\n",
      "50%         0.000968\n",
      "75%         0.009159\n",
      "max         0.162584\n",
      "Name: GOOGL, dtype: float64\n"
     ]
    }
   ],
   "source": [
    "print(daily_returns.GOOGL.describe())"
   ]
  },
  {
   "cell_type": "code",
   "execution_count": 11,
   "metadata": {},
   "outputs": [
    {
     "data": {
      "text/plain": [
       "<AxesSubplot:>"
      ]
     },
     "execution_count": 11,
     "metadata": {},
     "output_type": "execute_result"
    },
    {
     "data": {
      "image/png": "[encoded data removed]",
      "text/plain": [
       "<Figure size 432x288 with 1 Axes>"
      ]
     },
     "metadata": {
      "needs_background": "light"
     },
     "output_type": "display_data"
    }
   ],
   "source": [
    "daily_returns.FB.hist(bins=30)"
   ]
  },
  {
   "cell_type": "code",
   "execution_count": 12,
   "metadata": {},
   "outputs": [
    {
     "name": "stdout",
     "output_type": "stream",
     "text": [
      "count    2285.000000\n",
      "mean        0.001214\n",
      "std         0.023382\n",
      "min        -0.189609\n",
      "25%        -0.009449\n",
      "50%         0.001054\n",
      "75%         0.012337\n",
      "max         0.296115\n",
      "Name: FB, dtype: float64\n"
     ]
    }
   ],
   "source": [
    "print(daily_returns.FB.describe())"
   ]
  },
  {
   "cell_type": "markdown",
   "metadata": {},
   "source": [
    "Визуально все графики похожи на нормальное распределение. Чтобы это сравнить,были построены графики нормального распределения поверх гистограм."
   ]
  },
  {
   "cell_type": "code",
   "execution_count": 13,
   "metadata": {},
   "outputs": [
    {
     "data": {
      "text/plain": [
       "(array([ 0.09598263,  0.        ,  0.        ,  0.09598263,  0.        ,\n",
       "         0.14397395,  0.        ,  0.33593921,  0.33593921,  0.47991316,\n",
       "         1.05580895,  2.20760054,  5.23105344,  8.97437609, 20.25233535,\n",
       "        31.62627724, 23.56373615, 14.87730796,  5.7109666 ,  2.83148764,\n",
       "         1.1997829 ,  0.71986974,  0.33593921,  0.19196526,  0.14397395,\n",
       "         0.04799132,  0.14397395,  0.04799132,  0.04799132,  0.04799132]),\n",
       " array([-0.12864696, -0.12036512, -0.11208328, -0.10380145, -0.09551961,\n",
       "        -0.08723777, -0.07895593, -0.0706741 , -0.06239226, -0.05411042,\n",
       "        -0.04582858, -0.03754675, -0.02926491, -0.02098307, -0.01270124,\n",
       "        -0.0044194 ,  0.00386244,  0.01214428,  0.02042611,  0.02870795,\n",
       "         0.03698979,  0.04527163,  0.05355346,  0.0618353 ,  0.07011714,\n",
       "         0.07839898,  0.08668081,  0.09496265,  0.10324449,  0.11152633,\n",
       "         0.11980816]),\n",
       " <BarContainer object of 30 artists>)"
      ]
     },
     "execution_count": 13,
     "metadata": {},
     "output_type": "execute_result"
    },
    {
     "data": {
      "image/png": "[encoded data removed]",
      "text/plain": [
       "<Figure size 432x288 with 1 Axes>"
      ]
     },
     "metadata": {
      "needs_background": "light"
     },
     "output_type": "display_data"
    }
   ],
   "source": [
    "mu = daily_returns.AAPL.mean()\n",
    "sigma = daily_returns.AAPL.std()\n",
    "\n",
    "x = np.linspace(mu - 3*sigma, mu + 3*sigma, 100)\n",
    "plt.plot(x, sts.norm.pdf(x, mu, sigma))\n",
    "plt.hist(daily_returns.AAPL, bins=30, density=True)"
   ]
  },
  {
   "cell_type": "code",
   "execution_count": 14,
   "metadata": {},
   "outputs": [
    {
     "data": {
      "text/plain": [
       "(array([ 0.04274861,  0.        ,  0.        ,  0.12824582,  0.04274861,\n",
       "         0.08549721,  0.42748605,  0.76947489,  1.06871513,  3.07789957,\n",
       "         7.05351985, 18.59564325, 35.26759927, 24.40945355, 11.24288316,\n",
       "         2.82140794,  1.19696094,  0.55573187,  0.25649163,  0.08549721,\n",
       "         0.12824582,  0.04274861,  0.12824582,  0.        ,  0.        ,\n",
       "         0.        ,  0.04274861,  0.04274861,  0.        ,  0.04274861]),\n",
       " array([-0.11634152, -0.10704399, -0.09774647, -0.08844894, -0.07915141,\n",
       "        -0.06985389, -0.06055636, -0.05125884, -0.04196131, -0.03266378,\n",
       "        -0.02336626, -0.01406873, -0.0047712 ,  0.00452632,  0.01382385,\n",
       "         0.02312137,  0.0324189 ,  0.04171643,  0.05101395,  0.06031148,\n",
       "         0.06960901,  0.07890653,  0.08820406,  0.09750158,  0.10679911,\n",
       "         0.11609664,  0.12539416,  0.13469169,  0.14398922,  0.15328674,\n",
       "         0.16258427]),\n",
       " <BarContainer object of 30 artists>)"
      ]
     },
     "execution_count": 14,
     "metadata": {},
     "output_type": "execute_result"
    },
    {
     "data": {
      "image/png": "[encoded data removed]",
      "text/plain": [
       "<Figure size 432x288 with 1 Axes>"
      ]
     },
     "metadata": {
      "needs_background": "light"
     },
     "output_type": "display_data"
    }
   ],
   "source": [
    "mu = daily_returns.GOOGL.mean()\n",
    "sigma = daily_returns.GOOGL.std()\n",
    "\n",
    "x = np.linspace(mu - 3*sigma, mu + 3*sigma, 100)\n",
    "plt.plot(x, sts.norm.pdf(x, mu, sigma))\n",
    "plt.hist(daily_returns.GOOGL, bins=30, density=True)"
   ]
  },
  {
   "cell_type": "code",
   "execution_count": 15,
   "metadata": {},
   "outputs": [
    {
     "data": {
      "text/plain": [
       "(array([ 0.02702997,  0.        ,  0.02702997,  0.        ,  0.05405994,\n",
       "         0.05405994,  0.13514985,  0.37841959,  0.919019  ,  2.67596708,\n",
       "         8.73068046, 24.27291349, 16.65046181,  5.24381427,  1.67585817,\n",
       "         0.40544956,  0.2702997 ,  0.05405994,  0.05405994,  0.02702997,\n",
       "         0.02702997,  0.02702997,  0.        ,  0.02702997,  0.        ,\n",
       "         0.        ,  0.        ,  0.        ,  0.        ,  0.02702997]),\n",
       " array([-0.18960922, -0.17341842, -0.15722763, -0.14103683, -0.12484603,\n",
       "        -0.10865524, -0.09246444, -0.07627364, -0.06008285, -0.04389205,\n",
       "        -0.02770125, -0.01151046,  0.00468034,  0.02087114,  0.03706194,\n",
       "         0.05325273,  0.06944353,  0.08563433,  0.10182512,  0.11801592,\n",
       "         0.13420672,  0.15039751,  0.16658831,  0.18277911,  0.1989699 ,\n",
       "         0.2151607 ,  0.2313515 ,  0.24754229,  0.26373309,  0.27992389,\n",
       "         0.29611469]),\n",
       " <BarContainer object of 30 artists>)"
      ]
     },
     "execution_count": 15,
     "metadata": {},
     "output_type": "execute_result"
    },
    {
     "data": {
      "image/png": "[encoded data removed]",
      "text/plain": [
       "<Figure size 432x288 with 1 Axes>"
      ]
     },
     "metadata": {
      "needs_background": "light"
     },
     "output_type": "display_data"
    }
   ],
   "source": [
    "mu = daily_returns.FB.mean()\n",
    "sigma = daily_returns.FB.std()\n",
    "\n",
    "x = np.linspace(mu - 3*sigma, mu + 3*sigma, 100)\n",
    "plt.plot(x, sts.norm.pdf(x, mu, sigma))\n",
    "plt.hist(daily_returns.FB, bins=30, density=True)"
   ]
  },
  {
   "cell_type": "markdown",
   "metadata": {},
   "source": [
    "На мой взгляд распределение доходностей стационарно по времени, так как мы их можем аппроксимировать нормальной функцией распределения и  ее свойства не будут меняться во времени."
   ]
  },
  {
   "cell_type": "code",
   "execution_count": 16,
   "metadata": {},
   "outputs": [],
   "source": [
    "daily_returns.fillna(0, inplace=True)"
   ]
  },
  {
   "cell_type": "code",
   "execution_count": 17,
   "metadata": {},
   "outputs": [
    {
     "name": "stdout",
     "output_type": "stream",
     "text": [
      "\n",
      "Granger Causality\n",
      "number of lags (no zero) 1\n",
      "ssr based F test:         F=4.4175  , p=0.0357  , df_denom=2513, df_num=1\n",
      "ssr based chi2 test:   chi2=4.4227  , p=0.0355  , df=1\n",
      "likelihood ratio test: chi2=4.4189  , p=0.0355  , df=1\n",
      "parameter F test:         F=4.4175  , p=0.0357  , df_denom=2513, df_num=1\n",
      "\n",
      "Granger Causality\n",
      "number of lags (no zero) 2\n",
      "ssr based F test:         F=2.2351  , p=0.1072  , df_denom=2510, df_num=2\n",
      "ssr based chi2 test:   chi2=4.4792  , p=0.1065  , df=2\n",
      "likelihood ratio test: chi2=4.4752  , p=0.1067  , df=2\n",
      "parameter F test:         F=2.2351  , p=0.1072  , df_denom=2510, df_num=2\n",
      "\n",
      "Granger Causality\n",
      "number of lags (no zero) 3\n",
      "ssr based F test:         F=1.6150  , p=0.1838  , df_denom=2507, df_num=3\n",
      "ssr based chi2 test:   chi2=4.8585  , p=0.1825  , df=3\n",
      "likelihood ratio test: chi2=4.8538  , p=0.1828  , df=3\n",
      "parameter F test:         F=1.6150  , p=0.1838  , df_denom=2507, df_num=3\n",
      "\n",
      "Granger Causality\n",
      "number of lags (no zero) 4\n",
      "ssr based F test:         F=1.1964  , p=0.3103  , df_denom=2504, df_num=4\n",
      "ssr based chi2 test:   chi2=4.8027  , p=0.3081  , df=4\n",
      "likelihood ratio test: chi2=4.7981  , p=0.3086  , df=4\n",
      "parameter F test:         F=1.1964  , p=0.3103  , df_denom=2504, df_num=4\n",
      "\n",
      "Granger Causality\n",
      "number of lags (no zero) 5\n",
      "ssr based F test:         F=0.9806  , p=0.4281  , df_denom=2501, df_num=5\n",
      "ssr based chi2 test:   chi2=4.9245  , p=0.4252  , df=5\n",
      "likelihood ratio test: chi2=4.9197  , p=0.4258  , df=5\n",
      "parameter F test:         F=0.9806  , p=0.4281  , df_denom=2501, df_num=5\n",
      "\n",
      "Granger Causality\n",
      "number of lags (no zero) 6\n",
      "ssr based F test:         F=6.6019  , p=0.0000  , df_denom=2498, df_num=6\n",
      "ssr based chi2 test:   chi2=39.8178 , p=0.0000  , df=6\n",
      "likelihood ratio test: chi2=39.5054 , p=0.0000  , df=6\n",
      "parameter F test:         F=6.6019  , p=0.0000  , df_denom=2498, df_num=6\n"
     ]
    }
   ],
   "source": [
    "gc_res = grangercausalitytests(daily_returns[['AAPL','GOOGL']], 6)"
   ]
  },
  {
   "cell_type": "markdown",
   "metadata": {},
   "source": [
    "В коде выше рассмотрена причинность по Грэнджеру. Как видно при lags = 6 все значения p = 0, значит есть взаимосвязь между акциями Apple и Google."
   ]
  },
  {
   "cell_type": "code",
   "execution_count": 18,
   "metadata": {},
   "outputs": [
    {
     "name": "stdout",
     "output_type": "stream",
     "text": [
      "\n",
      "Granger Causality\n",
      "number of lags (no zero) 837\n",
      "ssr based F test:         F=2.3009  , p=0.1754  , df_denom=5, df_num=837\n",
      "ssr based chi2 test:   chi2=647075.9242, p=0.0000  , df=837\n",
      "likelihood ratio test: chi2=10006.5215, p=0.0000  , df=837\n",
      "parameter F test:         F=2.3009  , p=0.1754  , df_denom=5, df_num=837\n"
     ]
    }
   ],
   "source": [
    "gc_res = grangercausalitytests(daily_returns[['FB','GOOGL']], [837])"
   ]
  },
  {
   "cell_type": "markdown",
   "metadata": {},
   "source": [
    "Честно говоря, я прочитал несолько статей на эту тему (анализ причинности по Грэнджеру), но мне  так и не удалось понять, что говорит данная комбинация параметров."
   ]
  },
  {
   "cell_type": "markdown",
   "metadata": {},
   "source": [
    "# Задание 3"
   ]
  },
  {
   "cell_type": "code",
   "execution_count": 54,
   "metadata": {},
   "outputs": [
    {
     "name": "stdout",
     "output_type": "stream",
     "text": [
      "2517\n"
     ]
    }
   ],
   "source": [
    "#узнаем количесвто строк\n",
    "k = daily_returns.shape[0]\n",
    "print(k)"
   ]
  },
  {
   "cell_type": "code",
   "execution_count": 55,
   "metadata": {},
   "outputs": [],
   "source": [
    "pnl_a_i = np.zeros(shape=(3,k))"
   ]
  },
  {
   "cell_type": "code",
   "execution_count": 56,
   "metadata": {},
   "outputs": [],
   "source": [
    "def get_rand(ticker):\n",
    "    f = np.random.randn(1, k)\n",
    "    return (f.T)*daily_returns[[ticker]],f"
   ]
  },
  {
   "cell_type": "code",
   "execution_count": 57,
   "metadata": {},
   "outputs": [
    {
     "ename": "ValueError",
     "evalue": "setting an array element with a sequence.",
     "output_type": "error",
     "traceback": [
      "\u001b[1;31m---------------------------------------------------------------------------\u001b[0m",
      "\u001b[1;31mTypeError\u001b[0m                                 Traceback (most recent call last)",
      "\u001b[1;31mTypeError\u001b[0m: float() argument must be a string or a number, not 'DataFrame'",
      "\nThe above exception was the direct cause of the following exception:\n",
      "\u001b[1;31mValueError\u001b[0m                                Traceback (most recent call last)",
      "\u001b[1;32m<ipython-input-57-cfd13df39fda>\u001b[0m in \u001b[0;36m<module>\u001b[1;34m\u001b[0m\n\u001b[0;32m      2\u001b[0m \u001b[0mticker\u001b[0m \u001b[1;33m=\u001b[0m \u001b[1;34m'AAPL'\u001b[0m\u001b[1;33m\u001b[0m\u001b[1;33m\u001b[0m\u001b[0m\n\u001b[0;32m      3\u001b[0m \u001b[1;32mfor\u001b[0m \u001b[0mi\u001b[0m \u001b[1;32min\u001b[0m \u001b[0mrange\u001b[0m\u001b[1;33m(\u001b[0m\u001b[1;36m3\u001b[0m\u001b[1;33m)\u001b[0m\u001b[1;33m:\u001b[0m\u001b[1;33m\u001b[0m\u001b[1;33m\u001b[0m\u001b[0m\n\u001b[1;32m----> 4\u001b[1;33m     \u001b[0mpnl_a_i\u001b[0m\u001b[1;33m[\u001b[0m\u001b[1;33m[\u001b[0m\u001b[0mi\u001b[0m\u001b[1;33m]\u001b[0m\u001b[1;33m]\u001b[0m \u001b[1;33m=\u001b[0m \u001b[0mget_rand\u001b[0m\u001b[1;33m(\u001b[0m\u001b[0mticker\u001b[0m\u001b[1;33m)\u001b[0m\u001b[1;33m\u001b[0m\u001b[1;33m\u001b[0m\u001b[0m\n\u001b[0m",
      "\u001b[1;31mValueError\u001b[0m: setting an array element with a sequence."
     ]
    }
   ],
   "source": [
    "#Попытка засунуть все в цикл провалилась :(\n",
    "ticker = 'AAPL'\n",
    "for i in range(3):\n",
    "    pnl_a_i[[i]] = get_rand(ticker)"
   ]
  },
  {
   "cell_type": "code",
   "execution_count": 58,
   "metadata": {},
   "outputs": [],
   "source": [
    "pnl_a_1 = np.zeros(shape=(3,k))\n",
    "pnl_a_2 = np.zeros(shape=(3,k))\n",
    "pnl_f_1 = np.zeros(shape=(3,k))\n",
    "pnl_f_2 = np.zeros(shape=(3,k))\n",
    "pnl_g_1 = np.zeros(shape=(3,k))\n",
    "pnl_g_2 = np.zeros(shape=(3,k))\n"
   ]
  },
  {
   "cell_type": "code",
   "execution_count": 59,
   "metadata": {},
   "outputs": [],
   "source": [
    "ticker = 'AAPL'\n",
    "pnl_a_1, f_a_1 = get_rand(ticker)\n",
    "pnl_a_2, f_a_2 = get_rand(ticker)"
   ]
  },
  {
   "cell_type": "code",
   "execution_count": 60,
   "metadata": {},
   "outputs": [],
   "source": [
    "pnl_a_for_1 = np.cumsum(pnl_a_1)\n",
    "pnl_a_for_2 = np.cumsum(pnl_a_2)"
   ]
  },
  {
   "cell_type": "code",
   "execution_count": 61,
   "metadata": {},
   "outputs": [
    {
     "data": {
      "text/plain": [
       "[<matplotlib.lines.Line2D at 0x2592e5ada30>]"
      ]
     },
     "execution_count": 61,
     "metadata": {},
     "output_type": "execute_result"
    },
    {
     "data": {
      "image/png": "[encoded data removed]",
      "text/plain": [
       "<Figure size 432x288 with 2 Axes>"
      ]
     },
     "metadata": {
      "needs_background": "light"
     },
     "output_type": "display_data"
    }
   ],
   "source": [
    "fig, (ax1, ax2) = plt.subplots(2, sharex=True)\n",
    "fig.suptitle('Apple')\n",
    "ax1.plot(pnl_a_1)\n",
    "ax2.plot(pnl_a_2)"
   ]
  },
  {
   "cell_type": "code",
   "execution_count": 62,
   "metadata": {},
   "outputs": [
    {
     "data": {
      "text/plain": [
       "[<matplotlib.lines.Line2D at 0x2592fb04c10>]"
      ]
     },
     "execution_count": 62,
     "metadata": {},
     "output_type": "execute_result"
    },
    {
     "data": {
      "image/png": "[encoded data removed]",
      "text/plain": [
       "<Figure size 432x288 with 2 Axes>"
      ]
     },
     "metadata": {
      "needs_background": "light"
     },
     "output_type": "display_data"
    }
   ],
   "source": [
    "fig, (ax1, ax2) = plt.subplots(2, sharex=True)\n",
    "fig.suptitle('Apple cumsum')\n",
    "ax1.plot(pnl_a_for_1)\n",
    "ax2.plot(pnl_a_for_2)"
   ]
  },
  {
   "cell_type": "code",
   "execution_count": 63,
   "metadata": {},
   "outputs": [],
   "source": [
    "ticker = 'FB'\n",
    "pnl_f_1, f_f_1 = get_rand(ticker)\n",
    "pnl_f_2, f_f_2 = get_rand(ticker)"
   ]
  },
  {
   "cell_type": "code",
   "execution_count": 64,
   "metadata": {},
   "outputs": [],
   "source": [
    "pnl_f_for_1 = np.cumsum(pnl_f_1)\n",
    "pnl_f_for_2 = np.cumsum(pnl_f_2)"
   ]
  },
  {
   "cell_type": "code",
   "execution_count": 65,
   "metadata": {},
   "outputs": [
    {
     "data": {
      "text/plain": [
       "[<matplotlib.lines.Line2D at 0x2592fb74ac0>]"
      ]
     },
     "execution_count": 65,
     "metadata": {},
     "output_type": "execute_result"
    },
    {
     "data": {
      "image/png": "[encoded data removed]",
      "text/plain": [
       "<Figure size 432x288 with 2 Axes>"
      ]
     },
     "metadata": {
      "needs_background": "light"
     },
     "output_type": "display_data"
    }
   ],
   "source": [
    "fig, (ax1, ax2) = plt.subplots(2, sharex=True)\n",
    "fig.suptitle('FaceBook')\n",
    "ax1.plot(pnl_f_1)\n",
    "ax2.plot(pnl_f_2)"
   ]
  },
  {
   "cell_type": "code",
   "execution_count": 66,
   "metadata": {},
   "outputs": [
    {
     "data": {
      "text/plain": [
       "[<matplotlib.lines.Line2D at 0x2592fc0fc70>]"
      ]
     },
     "execution_count": 66,
     "metadata": {},
     "output_type": "execute_result"
    },
    {
     "data": {
      "image/png": "[encoded data removed]",
      "text/plain": [
       "<Figure size 432x288 with 2 Axes>"
      ]
     },
     "metadata": {
      "needs_background": "light"
     },
     "output_type": "display_data"
    }
   ],
   "source": [
    "fig, (ax1, ax2) = plt.subplots(2, sharex=True)\n",
    "fig.suptitle('FaceBook cumsum')\n",
    "ax1.plot(pnl_f_for_1)\n",
    "ax2.plot(pnl_f_for_2)"
   ]
  },
  {
   "cell_type": "code",
   "execution_count": 67,
   "metadata": {},
   "outputs": [],
   "source": [
    "ticker = 'GOOGL'\n",
    "pnl_g_1, f_g_1 = get_rand(ticker)\n",
    "pnl_g_2, f_g_2 = get_rand(ticker)"
   ]
  },
  {
   "cell_type": "code",
   "execution_count": 68,
   "metadata": {},
   "outputs": [],
   "source": [
    "pnl_g_for_1 = np.cumsum(pnl_g_1)\n",
    "pnl_g_for_2 = np.cumsum(pnl_g_2)"
   ]
  },
  {
   "cell_type": "code",
   "execution_count": 69,
   "metadata": {},
   "outputs": [
    {
     "data": {
      "text/plain": [
       "[<matplotlib.lines.Line2D at 0x2592fcb0fa0>]"
      ]
     },
     "execution_count": 69,
     "metadata": {},
     "output_type": "execute_result"
    },
    {
     "data": {
      "image/png": "[encoded data removed]",
      "text/plain": [
       "<Figure size 432x288 with 2 Axes>"
      ]
     },
     "metadata": {
      "needs_background": "light"
     },
     "output_type": "display_data"
    }
   ],
   "source": [
    "fig, (ax1, ax2) = plt.subplots(2, sharex=True)\n",
    "fig.suptitle('Google')\n",
    "ax1.plot(pnl_g_1)\n",
    "ax2.plot(pnl_g_2)"
   ]
  },
  {
   "cell_type": "code",
   "execution_count": 70,
   "metadata": {},
   "outputs": [
    {
     "data": {
      "text/plain": [
       "[<matplotlib.lines.Line2D at 0x2592fd5cfa0>]"
      ]
     },
     "execution_count": 70,
     "metadata": {},
     "output_type": "execute_result"
    },
    {
     "data": {
      "image/png": "[encoded data removed]",
      "text/plain": [
       "<Figure size 432x288 with 2 Axes>"
      ]
     },
     "metadata": {
      "needs_background": "light"
     },
     "output_type": "display_data"
    }
   ],
   "source": [
    "fig, (ax1, ax2) = plt.subplots(2, sharex=True)\n",
    "fig.suptitle('Google cumsum')\n",
    "ax1.plot(pnl_g_for_1)\n",
    "ax2.plot(pnl_g_for_2)"
   ]
  },
  {
   "cell_type": "markdown",
   "metadata": {},
   "source": [
    "# Задание 4"
   ]
  },
  {
   "cell_type": "markdown",
   "metadata": {},
   "source": [
    "## Я не понял, с чем связано то, что цикл не работает, поэтому тут мало точек."
   ]
  },
  {
   "cell_type": "code",
   "execution_count": 100,
   "metadata": {},
   "outputs": [],
   "source": [
    "sr_a_1 = pnl_a_1.mean()/pnl_a_1.std()\n",
    "sr_a_2 = pnl_a_2.mean()/pnl_a_1.std()\n",
    "sr_a = [sr_a_1, sr_a_2]\n",
    "sr_f_1 = pnl_f_1.mean()/pnl_f_1.std()\n",
    "sr_f_2 = pnl_f_2.mean()/pnl_f_2.std()\n",
    "sr_f = [sr_f_1, sr_f_2]\n",
    "sr_g_1 = pnl_g_1.mean()/pnl_g_1.std()\n",
    "sr_g_2 = pnl_g_2.mean()/pnl_g_2.std()\n",
    "sr_g = [sr_g_1, sr_g_2]"
   ]
  },
  {
   "cell_type": "code",
   "execution_count": 81,
   "metadata": {},
   "outputs": [
    {
     "data": {
      "text/plain": [
       "Date\n",
       "2011-06-20    0.000000\n",
       "2011-06-21    0.031651\n",
       "2011-06-22   -0.008269\n",
       "2011-06-23    0.026720\n",
       "2011-06-24   -0.014733\n",
       "                ...   \n",
       "2021-06-14    0.024578\n",
       "2021-06-15   -0.006438\n",
       "2021-06-16    0.003934\n",
       "2021-06-17    0.012601\n",
       "2021-06-18   -0.010092\n",
       "Name: AAPL, Length: 2517, dtype: float64"
      ]
     },
     "execution_count": 81,
     "metadata": {},
     "output_type": "execute_result"
    }
   ],
   "source": [
    "daily_returns['AAPL']"
   ]
  },
  {
   "cell_type": "code",
   "execution_count": 90,
   "metadata": {},
   "outputs": [],
   "source": [
    "k_a_1 = 0\n",
    "for j in range(k):\n",
    "    if np.sign(daily_returns['AAPL'][j]) == np.sign(f_a_1[0][j]):\n",
    "        k_a_1 = k_a_1+1"
   ]
  },
  {
   "cell_type": "code",
   "execution_count": 91,
   "metadata": {},
   "outputs": [],
   "source": [
    "k_a_2 = 0\n",
    "for j in range(k):\n",
    "    if np.sign(daily_returns['AAPL'][j]) == np.sign(f_a_2[0][j]):\n",
    "        k_a_2 = k_a_2+1"
   ]
  },
  {
   "cell_type": "code",
   "execution_count": 92,
   "metadata": {},
   "outputs": [],
   "source": [
    "k_g_1 = 0\n",
    "for j in range(k):\n",
    "    if np.sign(daily_returns['AAPL'][j]) == np.sign(f_g_1[0][j]):\n",
    "        k_g_1 = k_g_1+1"
   ]
  },
  {
   "cell_type": "code",
   "execution_count": 93,
   "metadata": {},
   "outputs": [],
   "source": [
    "k_g_2 = 0\n",
    "for j in range(k):\n",
    "    if np.sign(daily_returns['AAPL'][j]) == np.sign(f_g_2[0][j]):\n",
    "        k_g_2 = k_g_2+1"
   ]
  },
  {
   "cell_type": "code",
   "execution_count": 94,
   "metadata": {},
   "outputs": [],
   "source": [
    "k_f_1 = 0\n",
    "for j in range(k):\n",
    "    if np.sign(daily_returns['AAPL'][j]) == np.sign(f_f_1[0][j]):\n",
    "        k_f_1 = k_f_1+1"
   ]
  },
  {
   "cell_type": "code",
   "execution_count": 95,
   "metadata": {},
   "outputs": [],
   "source": [
    "k_f_2 = 0\n",
    "for j in range(k):\n",
    "    if np.sign(daily_returns['AAPL'][j]) == np.sign(f_f_2[0][j]):\n",
    "        k_f_2 = k_f_2+1"
   ]
  },
  {
   "cell_type": "code",
   "execution_count": 102,
   "metadata": {},
   "outputs": [],
   "source": [
    "h_r_a = [k_a_1/k, k_a_2/k]\n",
    "\n",
    "h_r_f = [k_f_1/k, k_f_2/k]\n",
    "\n",
    "h_r_g = [k_g_1/k, k_g_2/k]"
   ]
  },
  {
   "cell_type": "code",
   "execution_count": 103,
   "metadata": {},
   "outputs": [
    {
     "data": {
      "image/png": "[encoded data removed]",
      "text/plain": [
       "<Figure size 432x288 with 1 Axes>"
      ]
     },
     "metadata": {
      "needs_background": "light"
     },
     "output_type": "display_data"
    }
   ],
   "source": [
    "plt.scatter(sr_a, h_r_a)\n",
    "plt.show()\n"
   ]
  },
  {
   "cell_type": "code",
   "execution_count": 104,
   "metadata": {},
   "outputs": [
    {
     "data": {
      "image/png": "[encoded data removed]",
      "text/plain": [
       "<Figure size 432x288 with 1 Axes>"
      ]
     },
     "metadata": {
      "needs_background": "light"
     },
     "output_type": "display_data"
    }
   ],
   "source": [
    "plt.scatter(sr_f, h_r_f)\n",
    "plt.show()\n"
   ]
  },
  {
   "cell_type": "code",
   "execution_count": 105,
   "metadata": {},
   "outputs": [
    {
     "data": {
      "image/png": "[encoded data removed]",
      "text/plain": [
       "<Figure size 432x288 with 1 Axes>"
      ]
     },
     "metadata": {
      "needs_background": "light"
     },
     "output_type": "display_data"
    }
   ],
   "source": [
    "plt.scatter(sr_g, h_r_g)\n",
    "plt.show()"
   ]
  }
 ],
 "metadata": {
  "kernelspec": {
   "display_name": "Python 3",
   "language": "python",
   "name": "python3"
  },
  "language_info": {
   "codemirror_mode": {
    "name": "ipython",
    "version": 3
   },
   "file_extension": ".py",
   "mimetype": "text/x-python",
   "name": "python",
   "nbconvert_exporter": "python",
   "pygments_lexer": "ipython3",
   "version": "3.8.5"
  }
 },
 "nbformat": 4,
 "nbformat_minor": 4
}
